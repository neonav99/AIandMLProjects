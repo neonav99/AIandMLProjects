{
  "nbformat": 4,
  "nbformat_minor": 0,
  "metadata": {
    "kernelspec": {
      "display_name": "Python 3",
      "language": "python",
      "name": "python3"
    },
    "language_info": {
      "codemirror_mode": {
        "name": "ipython",
        "version": 3
      },
      "file_extension": ".py",
      "mimetype": "text/x-python",
      "name": "python",
      "nbconvert_exporter": "python",
      "pygments_lexer": "ipython3",
      "version": "3.7.4"
    },
    "colab": {
      "name": "MovieLens Project Questions Answers-SivaSankari-Final.ipynb",
      "provenance": [],
      "collapsed_sections": []
    }
  },
  "cells": [
    {
      "cell_type": "markdown",
      "metadata": {
        "id": "35jtGOHWGpCf",
        "colab_type": "text"
      },
      "source": [
        "### `Project - MovieLens Data Analysis`\n",
        "\n",
        "The GroupLens Research Project is a research group in the Department of Computer Science and Engineering at the University of Minnesota. The data is widely used for collaborative filtering and other filtering solutions. However, we will be using this data to act as a means to demonstrate our skill in using Python to “play” with data.\n",
        "\n",
        "\n",
        "### `Objective:`\n",
        "- To implement the techniques learnt as a part of the course.\n",
        "\n",
        "### `Learning Outcomes:`\n",
        "- Exploratory Data Analysis\n",
        "\n",
        "- Visualization using Python\n",
        "\n",
        "- Pandas – groupby, merging \n",
        "\n",
        "\n",
        "### `Domain` \n",
        "- Internet and Entertainment\n",
        "\n",
        "**Note that the project will need you to apply the concepts of groupby and merging extensively.**"
      ]
    },
    {
      "cell_type": "code",
      "metadata": {
        "id": "EZ8JwJDIUftf",
        "colab_type": "code",
        "colab": {}
      },
      "source": [
        "# Import PyDrive and associated libraries.\n",
        "# This only needs to be done once per notebook.\n",
        "from pydrive.auth import GoogleAuth\n",
        "from pydrive.drive import GoogleDrive\n",
        "from google.colab import auth\n",
        "from oauth2client.client import GoogleCredentials\n",
        "\n",
        "# Authenticate and create the PyDrive client.\n",
        "# This only needs to be done once per notebook.\n",
        "auth.authenticate_user()\n",
        "gauth = GoogleAuth()\n",
        "gauth.credentials = GoogleCredentials.get_application_default()\n",
        "drive = GoogleDrive(gauth)\n",
        "\n",
        "# Download a file based on its file ID.\n",
        "#\n",
        "# A file ID looks like: laggVyWshwcyP6kEI-y_W3P8D26sz\n",
        "file_id = 'REPLACE_WITH_YOUR_FILE_ID'\n",
        "downloaded = drive.CreateFile({'id': file_id})\n",
        "print('Downloaded content \"{}\"'.format(downloaded.GetContentString()))"
      ],
      "execution_count": null,
      "outputs": []
    },
    {
      "cell_type": "markdown",
      "metadata": {
        "id": "fH_2jrWzGpCh",
        "colab_type": "text"
      },
      "source": [
        "### `Datasets Information:`\n",
        "\n",
        "\n",
        "*rating.csv:* It contains information on ratings given by the users to a particular movie.\n",
        "- user id: id assigned to every user\n",
        "- movie id: id assigned to every movie\n",
        "- rating: rating given by the user\n",
        "- timestamp: Time recorded when the user gave a rating\n",
        "\n",
        "\n",
        "\n",
        "*movie.csv:* File contains information related to the movies and their genre.\n",
        "- movie id: id assigned to every movie\n",
        "- movie title: Title of the movie\n",
        "- release date: Date of release of the movie\n",
        "- Action: Genre containing binary values (1 - for action 0 - not action)\n",
        "- Adventure: Genre containing binary values (1 - for adventure 0 - not adventure)\n",
        "- Animation: Genre containing binary values (1 - for animation 0 - not animation)\n",
        "- Children’s: Genre containing binary values (1 - for children's 0 - not children's)\n",
        "- Comedy: Genre containing binary values (1 - for comedy 0 - not comedy)\n",
        "- Crime: Genre containing binary values (1 - for crime 0 - not crime)\n",
        "- Documentary: Genre containing binary values (1 - for documentary 0 - not documentary)\n",
        "- Drama: Genre containing binary values (1 - for drama 0 - not drama)\n",
        "- Fantasy: Genre containing binary values (1 - for fantasy 0 - not fantasy)\n",
        "- Film-Noir: Genre containing binary values (1 - for film-noir 0 - not film-noir)\n",
        "- Horror: Genre containing binary values (1 - for horror 0 - not horror)\n",
        "- Musical: Genre containing binary values (1 - for musical 0 - not musical)\n",
        "- Mystery: Genre containing binary values (1 - for mystery 0 - not mystery)\n",
        "- Romance: Genre containing binary values (1 - for romance 0 - not romance)\n",
        "- Sci-Fi: Genre containing binary values (1 - for sci-fi 0 - not sci-fi)\n",
        "- Thriller: Genre containing binary values (1 - for thriller 0 - not thriller)\n",
        "- War: Genre containing binary values (1 - for war 0 - not war)\n",
        "- Western: Genre containing binary values (1 - for western - not western)\n",
        "\n",
        "\n",
        "\n",
        "*user.csv:* It contains information of the users who have rated the movies.\n",
        "- user id: id assigned to every user\n",
        "- age: Age of the user\n",
        "- gender: Gender of the user\n",
        "- occupation: Occupation of the user\n",
        "- zip code: Zip code of the use\n",
        "\n",
        "\n",
        "**`Please provide you insights wherever necessary.`**"
      ]
    },
    {
      "cell_type": "markdown",
      "metadata": {
        "id": "heP4buVGGpCj",
        "colab_type": "text"
      },
      "source": [
        "### 1. Import the necessary packages - 2.5 marks"
      ]
    },
    {
      "cell_type": "code",
      "metadata": {
        "id": "ORmZJ-P2GpCl",
        "colab_type": "code",
        "colab": {
          "base_uri": "https://localhost:8080/",
          "height": 71
        },
        "outputId": "48c1cb28-fc80-44ed-b6c1-aab4d3390c59"
      },
      "source": [
        "# all necessary library is imported\n",
        "# Pandas imported to create dataframe from the given dataset\n",
        "import pandas as pd\n",
        "#numpy is imported for arithmatic operations\n",
        "import numpy as np\n",
        "#seaborn and matplotlib are visualisation library to plot graph\n",
        "import seaborn as sns\n",
        "import matplotlib.pyplot as plt\n",
        "#%matplotlib inline sets the backend of matplotlib to the 'inline' backend\n",
        "%matplotlib inline \n",
        "\n"
      ],
      "execution_count": 5,
      "outputs": [
        {
          "output_type": "stream",
          "text": [
            "/usr/local/lib/python3.6/dist-packages/statsmodels/tools/_testing.py:19: FutureWarning: pandas.util.testing is deprecated. Use the functions in the public API at pandas.testing instead.\n",
            "  import pandas.util.testing as tm\n"
          ],
          "name": "stderr"
        }
      ]
    },
    {
      "cell_type": "markdown",
      "metadata": {
        "id": "LzRf_if-GpCs",
        "colab_type": "text"
      },
      "source": [
        "### 2. Read the 3 datasets into dataframes - 2.5 marks"
      ]
    },
    {
      "cell_type": "code",
      "metadata": {
        "scrolled": true,
        "id": "HIwA0NkcGpCu",
        "colab_type": "code",
        "colab": {}
      },
      "source": [
        "#Create a dataframes from the csv files \n",
        "df_item = pd.read_csv('/content/sample_data/item.csv')\n",
        "df_Data = pd.read_csv('/content/sample_data/Data.csv')\n",
        "df_user = pd.read_csv('/content/sample_data/user.csv')\n",
        "\n",
        "\n"
      ],
      "execution_count": 6,
      "outputs": []
    },
    {
      "cell_type": "markdown",
      "metadata": {
        "id": "0795e4B6GpCw",
        "colab_type": "text"
      },
      "source": [
        "### 3. Apply info, shape, describe, and find the number of missing values in the data - 5 marks\n",
        " - Note that you will need to do it for all the three datasets seperately"
      ]
    },
    {
      "cell_type": "markdown",
      "metadata": {
        "id": "ytIdV5d9Buvz",
        "colab_type": "text"
      },
      "source": [
        ""
      ]
    },
    {
      "cell_type": "code",
      "metadata": {
        "id": "056V5yoMGpCw",
        "colab_type": "code",
        "colab": {
          "base_uri": "https://localhost:8080/",
          "height": 289
        },
        "outputId": "175a6d9f-473c-4e3f-e6f6-0d6aef5d1f27"
      },
      "source": [
        "#info() function is used to get a concise summary\n",
        "df_Data.info()\n",
        "#Describing all columns of a DataFrame regardless of data type\n",
        "df_Data.describe()\n",
        "#Return a tuple representing the dimensionality of the DataFrame for (Data)\n",
        "df_Data.shape\n",
        "#identifying the missing data in a dataset using isnull function and its total count\n",
        "null_data = df_Data.isnull().sum()\n",
        "print(\"Data null values :\",null_data)\n"
      ],
      "execution_count": null,
      "outputs": [
        {
          "output_type": "stream",
          "text": [
            "<class 'pandas.core.frame.DataFrame'>\n",
            "RangeIndex: 100000 entries, 0 to 99999\n",
            "Data columns (total 4 columns):\n",
            " #   Column     Non-Null Count   Dtype\n",
            "---  ------     --------------   -----\n",
            " 0   user id    100000 non-null  int64\n",
            " 1   movie id   100000 non-null  int64\n",
            " 2   rating     100000 non-null  int64\n",
            " 3   timestamp  100000 non-null  int64\n",
            "dtypes: int64(4)\n",
            "memory usage: 3.1 MB\n",
            "Data null values : user id      0\n",
            "movie id     0\n",
            "rating       0\n",
            "timestamp    0\n",
            "dtype: int64\n"
          ],
          "name": "stdout"
        }
      ]
    },
    {
      "cell_type": "code",
      "metadata": {
        "id": "M_hutaBIz-Sa",
        "colab_type": "code",
        "colab": {
          "base_uri": "https://localhost:8080/",
          "height": 1000
        },
        "outputId": "16020b50-8588-4086-9469-3d944c3f3f42"
      },
      "source": [
        "#info() function is used to get a concise summary\n",
        "df_item.info()\n",
        "#Describing all columns of a DataFrame regardless of data type\n",
        "df_item.describe()\n",
        "#Return a tuple representing the dimensionality of the DataFrame(Item)\n",
        "df_item.shape\n",
        "null_item = df_item.isnull().sum()\n",
        "print(\"Item null values :\",null_item)\n",
        "df_item.head()\n"
      ],
      "execution_count": null,
      "outputs": [
        {
          "output_type": "stream",
          "text": [
            "<class 'pandas.core.frame.DataFrame'>\n",
            "RangeIndex: 1681 entries, 0 to 1680\n",
            "Data columns (total 22 columns):\n",
            " #   Column        Non-Null Count  Dtype \n",
            "---  ------        --------------  ----- \n",
            " 0   movie id      1681 non-null   int64 \n",
            " 1   movie title   1681 non-null   object\n",
            " 2   release date  1681 non-null   object\n",
            " 3   unknown       1681 non-null   int64 \n",
            " 4   Action        1681 non-null   int64 \n",
            " 5   Adventure     1681 non-null   int64 \n",
            " 6   Animation     1681 non-null   int64 \n",
            " 7   Childrens     1681 non-null   int64 \n",
            " 8   Comedy        1681 non-null   int64 \n",
            " 9   Crime         1681 non-null   int64 \n",
            " 10  Documentary   1681 non-null   int64 \n",
            " 11  Drama         1681 non-null   int64 \n",
            " 12  Fantasy       1681 non-null   int64 \n",
            " 13  Film-Noir     1681 non-null   int64 \n",
            " 14  Horror        1681 non-null   int64 \n",
            " 15  Musical       1681 non-null   int64 \n",
            " 16  Mystery       1681 non-null   int64 \n",
            " 17  Romance       1681 non-null   int64 \n",
            " 18  Sci-Fi        1681 non-null   int64 \n",
            " 19  Thriller      1681 non-null   int64 \n",
            " 20  War           1681 non-null   int64 \n",
            " 21  Western       1681 non-null   int64 \n",
            "dtypes: int64(20), object(2)\n",
            "memory usage: 289.0+ KB\n",
            "Item null values : movie id        0\n",
            "movie title     0\n",
            "release date    0\n",
            "unknown         0\n",
            "Action          0\n",
            "Adventure       0\n",
            "Animation       0\n",
            "Childrens       0\n",
            "Comedy          0\n",
            "Crime           0\n",
            "Documentary     0\n",
            "Drama           0\n",
            "Fantasy         0\n",
            "Film-Noir       0\n",
            "Horror          0\n",
            "Musical         0\n",
            "Mystery         0\n",
            "Romance         0\n",
            "Sci-Fi          0\n",
            "Thriller        0\n",
            "War             0\n",
            "Western         0\n",
            "dtype: int64\n"
          ],
          "name": "stdout"
        },
        {
          "output_type": "execute_result",
          "data": {
            "text/html": [
              "<div>\n",
              "<style scoped>\n",
              "    .dataframe tbody tr th:only-of-type {\n",
              "        vertical-align: middle;\n",
              "    }\n",
              "\n",
              "    .dataframe tbody tr th {\n",
              "        vertical-align: top;\n",
              "    }\n",
              "\n",
              "    .dataframe thead th {\n",
              "        text-align: right;\n",
              "    }\n",
              "</style>\n",
              "<table border=\"1\" class=\"dataframe\">\n",
              "  <thead>\n",
              "    <tr style=\"text-align: right;\">\n",
              "      <th></th>\n",
              "      <th>movie id</th>\n",
              "      <th>movie title</th>\n",
              "      <th>release date</th>\n",
              "      <th>unknown</th>\n",
              "      <th>Action</th>\n",
              "      <th>Adventure</th>\n",
              "      <th>Animation</th>\n",
              "      <th>Childrens</th>\n",
              "      <th>Comedy</th>\n",
              "      <th>Crime</th>\n",
              "      <th>Documentary</th>\n",
              "      <th>Drama</th>\n",
              "      <th>Fantasy</th>\n",
              "      <th>Film-Noir</th>\n",
              "      <th>Horror</th>\n",
              "      <th>Musical</th>\n",
              "      <th>Mystery</th>\n",
              "      <th>Romance</th>\n",
              "      <th>Sci-Fi</th>\n",
              "      <th>Thriller</th>\n",
              "      <th>War</th>\n",
              "      <th>Western</th>\n",
              "    </tr>\n",
              "  </thead>\n",
              "  <tbody>\n",
              "    <tr>\n",
              "      <th>0</th>\n",
              "      <td>1</td>\n",
              "      <td>Toy Story</td>\n",
              "      <td>01-Jan-1995</td>\n",
              "      <td>0</td>\n",
              "      <td>0</td>\n",
              "      <td>0</td>\n",
              "      <td>1</td>\n",
              "      <td>1</td>\n",
              "      <td>1</td>\n",
              "      <td>0</td>\n",
              "      <td>0</td>\n",
              "      <td>0</td>\n",
              "      <td>0</td>\n",
              "      <td>0</td>\n",
              "      <td>0</td>\n",
              "      <td>0</td>\n",
              "      <td>0</td>\n",
              "      <td>0</td>\n",
              "      <td>0</td>\n",
              "      <td>0</td>\n",
              "      <td>0</td>\n",
              "      <td>0</td>\n",
              "    </tr>\n",
              "    <tr>\n",
              "      <th>1</th>\n",
              "      <td>2</td>\n",
              "      <td>GoldenEye</td>\n",
              "      <td>01-Jan-1995</td>\n",
              "      <td>0</td>\n",
              "      <td>1</td>\n",
              "      <td>1</td>\n",
              "      <td>0</td>\n",
              "      <td>0</td>\n",
              "      <td>0</td>\n",
              "      <td>0</td>\n",
              "      <td>0</td>\n",
              "      <td>0</td>\n",
              "      <td>0</td>\n",
              "      <td>0</td>\n",
              "      <td>0</td>\n",
              "      <td>0</td>\n",
              "      <td>0</td>\n",
              "      <td>0</td>\n",
              "      <td>0</td>\n",
              "      <td>1</td>\n",
              "      <td>0</td>\n",
              "      <td>0</td>\n",
              "    </tr>\n",
              "    <tr>\n",
              "      <th>2</th>\n",
              "      <td>3</td>\n",
              "      <td>Four Rooms</td>\n",
              "      <td>01-Jan-1995</td>\n",
              "      <td>0</td>\n",
              "      <td>0</td>\n",
              "      <td>0</td>\n",
              "      <td>0</td>\n",
              "      <td>0</td>\n",
              "      <td>0</td>\n",
              "      <td>0</td>\n",
              "      <td>0</td>\n",
              "      <td>0</td>\n",
              "      <td>0</td>\n",
              "      <td>0</td>\n",
              "      <td>0</td>\n",
              "      <td>0</td>\n",
              "      <td>0</td>\n",
              "      <td>0</td>\n",
              "      <td>0</td>\n",
              "      <td>1</td>\n",
              "      <td>0</td>\n",
              "      <td>0</td>\n",
              "    </tr>\n",
              "    <tr>\n",
              "      <th>3</th>\n",
              "      <td>4</td>\n",
              "      <td>Get Shorty</td>\n",
              "      <td>01-Jan-1995</td>\n",
              "      <td>0</td>\n",
              "      <td>1</td>\n",
              "      <td>0</td>\n",
              "      <td>0</td>\n",
              "      <td>0</td>\n",
              "      <td>1</td>\n",
              "      <td>0</td>\n",
              "      <td>0</td>\n",
              "      <td>1</td>\n",
              "      <td>0</td>\n",
              "      <td>0</td>\n",
              "      <td>0</td>\n",
              "      <td>0</td>\n",
              "      <td>0</td>\n",
              "      <td>0</td>\n",
              "      <td>0</td>\n",
              "      <td>0</td>\n",
              "      <td>0</td>\n",
              "      <td>0</td>\n",
              "    </tr>\n",
              "    <tr>\n",
              "      <th>4</th>\n",
              "      <td>5</td>\n",
              "      <td>Copycat</td>\n",
              "      <td>01-Jan-1995</td>\n",
              "      <td>0</td>\n",
              "      <td>0</td>\n",
              "      <td>0</td>\n",
              "      <td>0</td>\n",
              "      <td>0</td>\n",
              "      <td>0</td>\n",
              "      <td>1</td>\n",
              "      <td>0</td>\n",
              "      <td>1</td>\n",
              "      <td>0</td>\n",
              "      <td>0</td>\n",
              "      <td>0</td>\n",
              "      <td>0</td>\n",
              "      <td>0</td>\n",
              "      <td>0</td>\n",
              "      <td>0</td>\n",
              "      <td>1</td>\n",
              "      <td>0</td>\n",
              "      <td>0</td>\n",
              "    </tr>\n",
              "  </tbody>\n",
              "</table>\n",
              "</div>"
            ],
            "text/plain": [
              "   movie id  movie title release date  unknown  ...  Sci-Fi  Thriller  War  Western\n",
              "0         1   Toy Story   01-Jan-1995        0  ...       0         0    0        0\n",
              "1         2   GoldenEye   01-Jan-1995        0  ...       0         1    0        0\n",
              "2         3  Four Rooms   01-Jan-1995        0  ...       0         1    0        0\n",
              "3         4  Get Shorty   01-Jan-1995        0  ...       0         0    0        0\n",
              "4         5     Copycat   01-Jan-1995        0  ...       0         1    0        0\n",
              "\n",
              "[5 rows x 22 columns]"
            ]
          },
          "metadata": {
            "tags": []
          },
          "execution_count": 68
        }
      ]
    },
    {
      "cell_type": "code",
      "metadata": {
        "id": "J9CTVVKcz_R4",
        "colab_type": "code",
        "colab": {
          "base_uri": "https://localhost:8080/",
          "height": 323
        },
        "outputId": "f3cf35f2-02e2-491d-a556-3a305e7a5372"
      },
      "source": [
        "#info() function is used to get a concise summary\n",
        "df_user.info()\n",
        "#Describing all columns of a DataFrame regardless of data type\n",
        "df_user.describe()\n",
        "#Return a tuple representing the dimensionality of the DataFrame(User)\n",
        "df_user.shape\n",
        "null_user = df_user.isnull().sum()\n",
        "print(\"user null values :\",null_user)"
      ],
      "execution_count": null,
      "outputs": [
        {
          "output_type": "stream",
          "text": [
            "<class 'pandas.core.frame.DataFrame'>\n",
            "RangeIndex: 943 entries, 0 to 942\n",
            "Data columns (total 5 columns):\n",
            " #   Column      Non-Null Count  Dtype \n",
            "---  ------      --------------  ----- \n",
            " 0   user id     943 non-null    int64 \n",
            " 1   age         943 non-null    int64 \n",
            " 2   gender      943 non-null    object\n",
            " 3   occupation  943 non-null    object\n",
            " 4   zip code    943 non-null    object\n",
            "dtypes: int64(2), object(3)\n",
            "memory usage: 37.0+ KB\n",
            "user null values : user id       0\n",
            "age           0\n",
            "gender        0\n",
            "occupation    0\n",
            "zip code      0\n",
            "dtype: int64\n"
          ],
          "name": "stdout"
        }
      ]
    },
    {
      "cell_type": "markdown",
      "metadata": {
        "id": "lnnBXbKrGpC6",
        "colab_type": "text"
      },
      "source": [
        "### 4. Find the number of movies per genre using the item data - 2.5 marks"
      ]
    },
    {
      "cell_type": "code",
      "metadata": {
        "id": "10b9mkvJ3Pu7",
        "colab_type": "code",
        "colab": {
          "base_uri": "https://localhost:8080/",
          "height": 323
        },
        "outputId": "c70d9cf6-7e47-4963-e180-fbc666547a4e"
      },
      "source": [
        "# Getting the coumt by grouping induvidually all genre and computing total number of movies per genre\n",
        "Action= df_item.groupby('Action')\n",
        "print(\"Action Movie Count : \", Action['Action'].count()[1])\n",
        "\n",
        "Adventure = df_item.groupby('Adventure')\n",
        "print(\"Adventure Movie Count : \",Adventure['Adventure'].count()[1])\n",
        "\n",
        "Animation = df_item.groupby('Animation')\n",
        "print(\"Animation Movie Count : \",Animation['Animation'].count()[1])\n",
        "\n",
        "Childrens = df_item.groupby('Childrens')\n",
        "print(\"Childrens Movie Count : \",Childrens['Childrens'].count()[1])\n",
        "\n",
        "Comedy = df_item.groupby('Comedy')\n",
        "print(\"Comedy Movie Count : \",Comedy['Comedy'].count()[1])\n",
        "\n",
        "Crime = df_item.groupby('Crime')\n",
        "print(\"Crime Movie Count : \",Crime['Crime'].count()[1])\n",
        "\n",
        "Documentary = df_item.groupby('Documentary')\n",
        "print(\"Documentary Movie Count : \",Documentary['Documentary'].count()[1])\n",
        "\n",
        "Drama = df_item.groupby('Drama')\n",
        "print(\"Drama Movie Count : \",Drama['Drama'].count()[1])\n",
        "\n",
        "Fantasy = df_item.groupby('Fantasy')\n",
        "print(\"Fantasy Movie Count : \",Fantasy['Fantasy'].count()[1])\n",
        "\n",
        "Film_Noir = df_item.groupby('Film-Noir')\n",
        "print(\"Film-Noir Movie Count : \",Film_Noir['Film-Noir'].count()[1])\n",
        "\n",
        "Horror = df_item.groupby('Horror')\n",
        "print(\"Horror Movie Count : \",Horror['Horror'].count()[1])\n",
        "\n",
        "Musical = df_item.groupby('Musical')\n",
        "print(\"Musical Movie Count : \",Musical['Musical'].count()[1])\n",
        "\n",
        "Mystery = df_item.groupby('Mystery')\n",
        "print(\"Mystery Movie Count : \",Mystery['Mystery'].count()[1])\n",
        "\n",
        "Romance = df_item.groupby('Romance')\n",
        "print(\"Romance Movie Count : \",Romance['Romance'].count()[1])\n",
        "\n",
        "Sci_Fi = df_item.groupby('Sci-Fi')\n",
        "print(\"Sci-Fi Movie Count : \",Sci_Fi['Sci-Fi'].count()[1])\n",
        "\n",
        "Thriller = df_item.groupby('Thriller')\n",
        "print(\"Thriller Movie Count : \",Thriller['Thriller'].count()[1])\n",
        "\n",
        "War = df_item.groupby('War')\n",
        "print(\"War Movie Count : \",War['War'].count()[1])\n",
        "\n",
        "Western = df_item.groupby('Western')\n",
        "print(\"Western Movie Count : \",Western['Western'].count()[1])\n",
        "\n"
      ],
      "execution_count": null,
      "outputs": [
        {
          "output_type": "stream",
          "text": [
            "Action Movie Count :  251\n",
            "Adventure Movie Count :  135\n",
            "Animation Movie Count :  42\n",
            "Childrens Movie Count :  122\n",
            "Comedy Movie Count :  505\n",
            "Crime Movie Count :  109\n",
            "Documentary Movie Count :  50\n",
            "Drama Movie Count :  725\n",
            "Fantasy Movie Count :  22\n",
            "Film-Noir Movie Count :  24\n",
            "Horror Movie Count :  92\n",
            "Musical Movie Count :  56\n",
            "Mystery Movie Count :  61\n",
            "Romance Movie Count :  247\n",
            "Sci-Fi Movie Count :  101\n",
            "Thriller Movie Count :  251\n",
            "War Movie Count :  71\n",
            "Western Movie Count :  27\n"
          ],
          "name": "stdout"
        }
      ]
    },
    {
      "cell_type": "markdown",
      "metadata": {
        "id": "OyFFoBSbGpDE",
        "colab_type": "text"
      },
      "source": [
        "### 5. Drop the movie where the genre is unknown - 2.5 marks"
      ]
    },
    {
      "cell_type": "code",
      "metadata": {
        "id": "BtmdBd5JGpDE",
        "colab_type": "code",
        "colab": {
          "base_uri": "https://localhost:8080/",
          "height": 660
        },
        "outputId": "989c4862-4939-4bb8-e639-f256d8152dd0"
      },
      "source": [
        "#Finding the index of the 'unknown' genre records\n",
        "unk = df_item[df_item['unknown'] == 1].index\n",
        "# drop the unkown genre records\n",
        "df_item.drop(unk)\n",
        "# only one record is found with genre as unknown and it is been dropped "
      ],
      "execution_count": null,
      "outputs": [
        {
          "output_type": "execute_result",
          "data": {
            "text/html": [
              "<div>\n",
              "<style scoped>\n",
              "    .dataframe tbody tr th:only-of-type {\n",
              "        vertical-align: middle;\n",
              "    }\n",
              "\n",
              "    .dataframe tbody tr th {\n",
              "        vertical-align: top;\n",
              "    }\n",
              "\n",
              "    .dataframe thead th {\n",
              "        text-align: right;\n",
              "    }\n",
              "</style>\n",
              "<table border=\"1\" class=\"dataframe\">\n",
              "  <thead>\n",
              "    <tr style=\"text-align: right;\">\n",
              "      <th></th>\n",
              "      <th>movie id</th>\n",
              "      <th>movie title</th>\n",
              "      <th>release date</th>\n",
              "      <th>unknown</th>\n",
              "      <th>Action</th>\n",
              "      <th>Adventure</th>\n",
              "      <th>Animation</th>\n",
              "      <th>Childrens</th>\n",
              "      <th>Comedy</th>\n",
              "      <th>Crime</th>\n",
              "      <th>Documentary</th>\n",
              "      <th>Drama</th>\n",
              "      <th>Fantasy</th>\n",
              "      <th>Film-Noir</th>\n",
              "      <th>Horror</th>\n",
              "      <th>Musical</th>\n",
              "      <th>Mystery</th>\n",
              "      <th>Romance</th>\n",
              "      <th>Sci-Fi</th>\n",
              "      <th>Thriller</th>\n",
              "      <th>War</th>\n",
              "      <th>Western</th>\n",
              "    </tr>\n",
              "  </thead>\n",
              "  <tbody>\n",
              "    <tr>\n",
              "      <th>0</th>\n",
              "      <td>1</td>\n",
              "      <td>Toy Story</td>\n",
              "      <td>01-Jan-1995</td>\n",
              "      <td>0</td>\n",
              "      <td>0</td>\n",
              "      <td>0</td>\n",
              "      <td>1</td>\n",
              "      <td>1</td>\n",
              "      <td>1</td>\n",
              "      <td>0</td>\n",
              "      <td>0</td>\n",
              "      <td>0</td>\n",
              "      <td>0</td>\n",
              "      <td>0</td>\n",
              "      <td>0</td>\n",
              "      <td>0</td>\n",
              "      <td>0</td>\n",
              "      <td>0</td>\n",
              "      <td>0</td>\n",
              "      <td>0</td>\n",
              "      <td>0</td>\n",
              "      <td>0</td>\n",
              "    </tr>\n",
              "    <tr>\n",
              "      <th>1</th>\n",
              "      <td>2</td>\n",
              "      <td>GoldenEye</td>\n",
              "      <td>01-Jan-1995</td>\n",
              "      <td>0</td>\n",
              "      <td>1</td>\n",
              "      <td>1</td>\n",
              "      <td>0</td>\n",
              "      <td>0</td>\n",
              "      <td>0</td>\n",
              "      <td>0</td>\n",
              "      <td>0</td>\n",
              "      <td>0</td>\n",
              "      <td>0</td>\n",
              "      <td>0</td>\n",
              "      <td>0</td>\n",
              "      <td>0</td>\n",
              "      <td>0</td>\n",
              "      <td>0</td>\n",
              "      <td>0</td>\n",
              "      <td>1</td>\n",
              "      <td>0</td>\n",
              "      <td>0</td>\n",
              "    </tr>\n",
              "    <tr>\n",
              "      <th>2</th>\n",
              "      <td>3</td>\n",
              "      <td>Four Rooms</td>\n",
              "      <td>01-Jan-1995</td>\n",
              "      <td>0</td>\n",
              "      <td>0</td>\n",
              "      <td>0</td>\n",
              "      <td>0</td>\n",
              "      <td>0</td>\n",
              "      <td>0</td>\n",
              "      <td>0</td>\n",
              "      <td>0</td>\n",
              "      <td>0</td>\n",
              "      <td>0</td>\n",
              "      <td>0</td>\n",
              "      <td>0</td>\n",
              "      <td>0</td>\n",
              "      <td>0</td>\n",
              "      <td>0</td>\n",
              "      <td>0</td>\n",
              "      <td>1</td>\n",
              "      <td>0</td>\n",
              "      <td>0</td>\n",
              "    </tr>\n",
              "    <tr>\n",
              "      <th>3</th>\n",
              "      <td>4</td>\n",
              "      <td>Get Shorty</td>\n",
              "      <td>01-Jan-1995</td>\n",
              "      <td>0</td>\n",
              "      <td>1</td>\n",
              "      <td>0</td>\n",
              "      <td>0</td>\n",
              "      <td>0</td>\n",
              "      <td>1</td>\n",
              "      <td>0</td>\n",
              "      <td>0</td>\n",
              "      <td>1</td>\n",
              "      <td>0</td>\n",
              "      <td>0</td>\n",
              "      <td>0</td>\n",
              "      <td>0</td>\n",
              "      <td>0</td>\n",
              "      <td>0</td>\n",
              "      <td>0</td>\n",
              "      <td>0</td>\n",
              "      <td>0</td>\n",
              "      <td>0</td>\n",
              "    </tr>\n",
              "    <tr>\n",
              "      <th>4</th>\n",
              "      <td>5</td>\n",
              "      <td>Copycat</td>\n",
              "      <td>01-Jan-1995</td>\n",
              "      <td>0</td>\n",
              "      <td>0</td>\n",
              "      <td>0</td>\n",
              "      <td>0</td>\n",
              "      <td>0</td>\n",
              "      <td>0</td>\n",
              "      <td>1</td>\n",
              "      <td>0</td>\n",
              "      <td>1</td>\n",
              "      <td>0</td>\n",
              "      <td>0</td>\n",
              "      <td>0</td>\n",
              "      <td>0</td>\n",
              "      <td>0</td>\n",
              "      <td>0</td>\n",
              "      <td>0</td>\n",
              "      <td>1</td>\n",
              "      <td>0</td>\n",
              "      <td>0</td>\n",
              "    </tr>\n",
              "    <tr>\n",
              "      <th>...</th>\n",
              "      <td>...</td>\n",
              "      <td>...</td>\n",
              "      <td>...</td>\n",
              "      <td>...</td>\n",
              "      <td>...</td>\n",
              "      <td>...</td>\n",
              "      <td>...</td>\n",
              "      <td>...</td>\n",
              "      <td>...</td>\n",
              "      <td>...</td>\n",
              "      <td>...</td>\n",
              "      <td>...</td>\n",
              "      <td>...</td>\n",
              "      <td>...</td>\n",
              "      <td>...</td>\n",
              "      <td>...</td>\n",
              "      <td>...</td>\n",
              "      <td>...</td>\n",
              "      <td>...</td>\n",
              "      <td>...</td>\n",
              "      <td>...</td>\n",
              "      <td>...</td>\n",
              "    </tr>\n",
              "    <tr>\n",
              "      <th>1676</th>\n",
              "      <td>1678</td>\n",
              "      <td>Mat' i syn</td>\n",
              "      <td>06-Feb-1998</td>\n",
              "      <td>0</td>\n",
              "      <td>0</td>\n",
              "      <td>0</td>\n",
              "      <td>0</td>\n",
              "      <td>0</td>\n",
              "      <td>0</td>\n",
              "      <td>0</td>\n",
              "      <td>0</td>\n",
              "      <td>1</td>\n",
              "      <td>0</td>\n",
              "      <td>0</td>\n",
              "      <td>0</td>\n",
              "      <td>0</td>\n",
              "      <td>0</td>\n",
              "      <td>0</td>\n",
              "      <td>0</td>\n",
              "      <td>0</td>\n",
              "      <td>0</td>\n",
              "      <td>0</td>\n",
              "    </tr>\n",
              "    <tr>\n",
              "      <th>1677</th>\n",
              "      <td>1679</td>\n",
              "      <td>B. Monkey</td>\n",
              "      <td>06-Feb-1998</td>\n",
              "      <td>0</td>\n",
              "      <td>0</td>\n",
              "      <td>0</td>\n",
              "      <td>0</td>\n",
              "      <td>0</td>\n",
              "      <td>0</td>\n",
              "      <td>0</td>\n",
              "      <td>0</td>\n",
              "      <td>0</td>\n",
              "      <td>0</td>\n",
              "      <td>0</td>\n",
              "      <td>0</td>\n",
              "      <td>0</td>\n",
              "      <td>0</td>\n",
              "      <td>1</td>\n",
              "      <td>0</td>\n",
              "      <td>1</td>\n",
              "      <td>0</td>\n",
              "      <td>0</td>\n",
              "    </tr>\n",
              "    <tr>\n",
              "      <th>1678</th>\n",
              "      <td>1680</td>\n",
              "      <td>Sliding Doors</td>\n",
              "      <td>01-Jan-1998</td>\n",
              "      <td>0</td>\n",
              "      <td>0</td>\n",
              "      <td>0</td>\n",
              "      <td>0</td>\n",
              "      <td>0</td>\n",
              "      <td>0</td>\n",
              "      <td>0</td>\n",
              "      <td>0</td>\n",
              "      <td>1</td>\n",
              "      <td>0</td>\n",
              "      <td>0</td>\n",
              "      <td>0</td>\n",
              "      <td>0</td>\n",
              "      <td>0</td>\n",
              "      <td>1</td>\n",
              "      <td>0</td>\n",
              "      <td>0</td>\n",
              "      <td>0</td>\n",
              "      <td>0</td>\n",
              "    </tr>\n",
              "    <tr>\n",
              "      <th>1679</th>\n",
              "      <td>1681</td>\n",
              "      <td>You So Crazy</td>\n",
              "      <td>01-Jan-1994</td>\n",
              "      <td>0</td>\n",
              "      <td>0</td>\n",
              "      <td>0</td>\n",
              "      <td>0</td>\n",
              "      <td>0</td>\n",
              "      <td>1</td>\n",
              "      <td>0</td>\n",
              "      <td>0</td>\n",
              "      <td>0</td>\n",
              "      <td>0</td>\n",
              "      <td>0</td>\n",
              "      <td>0</td>\n",
              "      <td>0</td>\n",
              "      <td>0</td>\n",
              "      <td>0</td>\n",
              "      <td>0</td>\n",
              "      <td>0</td>\n",
              "      <td>0</td>\n",
              "      <td>0</td>\n",
              "    </tr>\n",
              "    <tr>\n",
              "      <th>1680</th>\n",
              "      <td>1682</td>\n",
              "      <td>Scream of Stone (Schrei aus Stein)</td>\n",
              "      <td>08-Mar-1996</td>\n",
              "      <td>0</td>\n",
              "      <td>0</td>\n",
              "      <td>0</td>\n",
              "      <td>0</td>\n",
              "      <td>0</td>\n",
              "      <td>0</td>\n",
              "      <td>0</td>\n",
              "      <td>0</td>\n",
              "      <td>1</td>\n",
              "      <td>0</td>\n",
              "      <td>0</td>\n",
              "      <td>0</td>\n",
              "      <td>0</td>\n",
              "      <td>0</td>\n",
              "      <td>0</td>\n",
              "      <td>0</td>\n",
              "      <td>0</td>\n",
              "      <td>0</td>\n",
              "      <td>0</td>\n",
              "    </tr>\n",
              "  </tbody>\n",
              "</table>\n",
              "<p>1680 rows × 22 columns</p>\n",
              "</div>"
            ],
            "text/plain": [
              "      movie id                          movie title  ... War  Western\n",
              "0            1                           Toy Story   ...   0        0\n",
              "1            2                           GoldenEye   ...   0        0\n",
              "2            3                          Four Rooms   ...   0        0\n",
              "3            4                          Get Shorty   ...   0        0\n",
              "4            5                             Copycat   ...   0        0\n",
              "...        ...                                  ...  ...  ..      ...\n",
              "1676      1678                          Mat' i syn   ...   0        0\n",
              "1677      1679                           B. Monkey   ...   0        0\n",
              "1678      1680                       Sliding Doors   ...   0        0\n",
              "1679      1681                        You So Crazy   ...   0        0\n",
              "1680      1682  Scream of Stone (Schrei aus Stein)   ...   0        0\n",
              "\n",
              "[1680 rows x 22 columns]"
            ]
          },
          "metadata": {
            "tags": []
          },
          "execution_count": 8
        }
      ]
    },
    {
      "cell_type": "markdown",
      "metadata": {
        "id": "Z0Kfvx2OGpDO",
        "colab_type": "text"
      },
      "source": [
        "### 6. Find the movies that have more than one genre - 5 marks\n",
        "\n",
        "hint: use sum on the axis = 1\n",
        "\n",
        "Display movie name, number of genres for the movie in dataframe\n",
        "\n",
        "and also print(total number of movies which have more than one genres)"
      ]
    },
    {
      "cell_type": "code",
      "metadata": {
        "id": "NDS-9eQHGpDO",
        "colab_type": "code",
        "colab": {
          "base_uri": "https://localhost:8080/",
          "height": 272
        },
        "outputId": "75255ed2-b4a8-4d99-c411-1cdaa3af5083"
      },
      "source": [
        "#Create genre column list\n",
        "df_item_col = ['Action',\t'Adventure',\t'Animation',\t'Childrens',\t'Comedy',\t'Crime',\t'Documentary','Drama',\t'Fantasy',\t'Film-Noir',\t'Horror',\t'Musical',\t'Mystery',\t'Romance',\t'Sci-Fi',\t'Thriller',\t'War',\t'Western']\n",
        "# Finding the total number of movies having more than one genre \n",
        "df_item['totalgenre']=df_item.loc[:,df_item_col].sum(axis=1)\n",
        "print(df_item[['movie title','totalgenre']])\n",
        "\n",
        "val = len(df_item[df_item.totalgenre>1])\n",
        "print(\"Total Number of Movies where total genre is greater than 1 : \",val)"
      ],
      "execution_count": null,
      "outputs": [
        {
          "output_type": "stream",
          "text": [
            "                              movie title  totalgenre\n",
            "0                              Toy Story            3\n",
            "1                              GoldenEye            3\n",
            "2                             Four Rooms            1\n",
            "3                             Get Shorty            3\n",
            "4                                Copycat            3\n",
            "...                                   ...         ...\n",
            "1676                          Mat' i syn            1\n",
            "1677                           B. Monkey            2\n",
            "1678                       Sliding Doors            2\n",
            "1679                        You So Crazy            1\n",
            "1680  Scream of Stone (Schrei aus Stein)            1\n",
            "\n",
            "[1681 rows x 2 columns]\n",
            "Total Number of Movies where total genre is greater than 1 :  849\n"
          ],
          "name": "stdout"
        }
      ]
    },
    {
      "cell_type": "markdown",
      "metadata": {
        "id": "2n51WvkBGpDY",
        "colab_type": "text"
      },
      "source": [
        "### 7. Univariate plots of columns: 'rating', 'Age', 'release year', 'Gender' and 'Occupation' - 10 marks\n",
        "\n",
        "*HINT: Use distplot for age. Use lineplot or countplot for release year.*\n",
        "\n",
        "*HINT: Plot percentages in y-axis and categories in x-axis for ratings, gender and occupation*\n",
        "\n",
        "*HINT: Please refer to the below snippet to understand how to get to release year from release date. You can use str.split() as depicted below or you could convert it to pandas datetime format and extract year (.dt.year)*"
      ]
    },
    {
      "cell_type": "code",
      "metadata": {
        "id": "S4obzzDMGpDZ",
        "colab_type": "code",
        "colab": {
          "base_uri": "https://localhost:8080/",
          "height": 285
        },
        "outputId": "562cfbfe-2334-469b-976c-299875aad9ae"
      },
      "source": [
        "import pandas as pd\n",
        "import seaborn as sns   # Why sns?  It's a reference to The West Wing\n",
        "import matplotlib.pyplot as plt  # seaborn is based on matplotlib\n",
        "sns.set(color_codes=True) # adds a nice background to the graphs\n",
        "%matplotlib inline \n",
        "# create a dataframe from the user.csv file\n",
        "user = pd.read_csv('/content/sample_data/user.csv')\n",
        "# using seaborn plot a distplot(univariate graph against age\n",
        "sns.distplot(user['age'], kde=False, rug=True);\n",
        "# higher Number of movie watcher lies between the age group of 25 to 30"
      ],
      "execution_count": null,
      "outputs": [
        {
          "output_type": "display_data",
          "data": {
            "image/png": "[encoded data removed]",
            "text/plain": [
              "<Figure size 432x288 with 1 Axes>"
            ]
          },
          "metadata": {
            "tags": [],
            "needs_background": "light"
          }
        }
      ]
    },
    {
      "cell_type": "code",
      "metadata": {
        "id": "4f9F2k49KzGO",
        "colab_type": "code",
        "colab": {
          "base_uri": "https://localhost:8080/",
          "height": 1000
        },
        "outputId": "365183b0-fd4c-4326-b0e2-4f61cfb3936f"
      },
      "source": [
        "# set the plot's figure size\n",
        "plt.figure(figsize=(20,10))\n",
        "# using datetimeindex getting the year alone from release datE\n",
        "df_item['year']= pd.DatetimeIndex(df_item['release date']).year\n",
        "#Using seaborn draw the count plot\n",
        "chart_year=sns.countplot(df_item['year']);\n",
        "chart_year.set_xticklabels(chart_year.get_xticklabels(),rotation=45)"
      ],
      "execution_count": 19,
      "outputs": [
        {
          "output_type": "execute_result",
          "data": {
            "text/plain": [
              "[Text(0, 0, '1922'),\n",
              " Text(0, 0, '1926'),\n",
              " Text(0, 0, '1930'),\n",
              " Text(0, 0, '1931'),\n",
              " Text(0, 0, '1932'),\n",
              " Text(0, 0, '1933'),\n",
              " Text(0, 0, '1934'),\n",
              " Text(0, 0, '1935'),\n",
              " Text(0, 0, '1936'),\n",
              " Text(0, 0, '1937'),\n",
              " Text(0, 0, '1938'),\n",
              " Text(0, 0, '1939'),\n",
              " Text(0, 0, '1940'),\n",
              " Text(0, 0, '1941'),\n",
              " Text(0, 0, '1942'),\n",
              " Text(0, 0, '1943'),\n",
              " Text(0, 0, '1944'),\n",
              " Text(0, 0, '1945'),\n",
              " Text(0, 0, '1946'),\n",
              " Text(0, 0, '1947'),\n",
              " Text(0, 0, '1948'),\n",
              " Text(0, 0, '1949'),\n",
              " Text(0, 0, '1950'),\n",
              " Text(0, 0, '1951'),\n",
              " Text(0, 0, '1952'),\n",
              " Text(0, 0, '1953'),\n",
              " Text(0, 0, '1954'),\n",
              " Text(0, 0, '1955'),\n",
              " Text(0, 0, '1956'),\n",
              " Text(0, 0, '1957'),\n",
              " Text(0, 0, '1958'),\n",
              " Text(0, 0, '1959'),\n",
              " Text(0, 0, '1960'),\n",
              " Text(0, 0, '1961'),\n",
              " Text(0, 0, '1962'),\n",
              " Text(0, 0, '1963'),\n",
              " Text(0, 0, '1964'),\n",
              " Text(0, 0, '1965'),\n",
              " Text(0, 0, '1966'),\n",
              " Text(0, 0, '1967'),\n",
              " Text(0, 0, '1968'),\n",
              " Text(0, 0, '1969'),\n",
              " Text(0, 0, '1970'),\n",
              " Text(0, 0, '1971'),\n",
              " Text(0, 0, '1972'),\n",
              " Text(0, 0, '1973'),\n",
              " Text(0, 0, '1974'),\n",
              " Text(0, 0, '1975'),\n",
              " Text(0, 0, '1976'),\n",
              " Text(0, 0, '1977'),\n",
              " Text(0, 0, '1978'),\n",
              " Text(0, 0, '1979'),\n",
              " Text(0, 0, '1980'),\n",
              " Text(0, 0, '1981'),\n",
              " Text(0, 0, '1982'),\n",
              " Text(0, 0, '1983'),\n",
              " Text(0, 0, '1984'),\n",
              " Text(0, 0, '1985'),\n",
              " Text(0, 0, '1986'),\n",
              " Text(0, 0, '1987'),\n",
              " Text(0, 0, '1988'),\n",
              " Text(0, 0, '1989'),\n",
              " Text(0, 0, '1990'),\n",
              " Text(0, 0, '1991'),\n",
              " Text(0, 0, '1992'),\n",
              " Text(0, 0, '1993'),\n",
              " Text(0, 0, '1994'),\n",
              " Text(0, 0, '1995'),\n",
              " Text(0, 0, '1996'),\n",
              " Text(0, 0, '1997'),\n",
              " Text(0, 0, '1998')]"
            ]
          },
          "metadata": {
            "tags": []
          },
          "execution_count": 19
        },
        {
          "output_type": "display_data",
          "data": {
            "image/png": "[encoded data removed]",
            "text/plain": [
              "<Figure size 1440x720 with 1 Axes>"
            ]
          },
          "metadata": {
            "tags": [],
            "needs_background": "light"
          }
        }
      ]
    },
    {
      "cell_type": "code",
      "metadata": {
        "id": "jPqkPPndOcXF",
        "colab_type": "code",
        "colab": {
          "base_uri": "https://localhost:8080/",
          "height": 299
        },
        "outputId": "4b9d2014-a96d-4ded-bf5a-33ba92413258"
      },
      "source": [
        "\n",
        "#bar plot between rating vs percentage using normalised value of total counts\n",
        "df_Data['rating'].value_counts(normalize=True).mul(100).plot(kind='bar')\n",
        "# naming conventions for x and y axis\n",
        "plt.xlabel(\"rating\")\n",
        "plt.ylabel(\"Percent\")\n",
        "#inference from the below graphg is mejority of the audience has given higher ratings for the movies\n"
      ],
      "execution_count": null,
      "outputs": [
        {
          "output_type": "execute_result",
          "data": {
            "text/plain": [
              "Text(0, 0.5, 'Percent')"
            ]
          },
          "metadata": {
            "tags": []
          },
          "execution_count": 49
        },
        {
          "output_type": "display_data",
          "data": {
            "image/png": "[encoded data removed]",
            "text/plain": [
              "<Figure size 432x288 with 1 Axes>"
            ]
          },
          "metadata": {
            "tags": [],
            "needs_background": "light"
          }
        }
      ]
    },
    {
      "cell_type": "code",
      "metadata": {
        "id": "XRmF2WY-ew_0",
        "colab_type": "code",
        "colab": {
          "base_uri": "https://localhost:8080/",
          "height": 301
        },
        "outputId": "2834783b-105f-4357-d5a4-cb55c46e0d70"
      },
      "source": [
        "\n",
        "#bar plot between gender vs percentage using normalised value of total counts\n",
        "df_user['gender'].value_counts(normalize=True).mul(100).plot(kind='bar')\n",
        "# give the lables for x and y axis\n",
        "plt.xlabel(\"gender\")\n",
        "plt.ylabel(\"Percent\")\n",
        "#inference from the below bar graph is male watches 100% over female"
      ],
      "execution_count": null,
      "outputs": [
        {
          "output_type": "execute_result",
          "data": {
            "text/plain": [
              "Text(0, 0.5, 'Percent')"
            ]
          },
          "metadata": {
            "tags": []
          },
          "execution_count": 50
        },
        {
          "output_type": "display_data",
          "data": {
            "image/png": "[encoded data removed]",
            "text/plain": [
              "<Figure size 432x288 with 1 Axes>"
            ]
          },
          "metadata": {
            "tags": [],
            "needs_background": "light"
          }
        }
      ]
    },
    {
      "cell_type": "code",
      "metadata": {
        "id": "t5TI7WPne5F8",
        "colab_type": "code",
        "colab": {
          "base_uri": "https://localhost:8080/",
          "height": 358
        },
        "outputId": "ea1f094b-40cc-4964-81a1-391eaa65c878"
      },
      "source": [
        "\n",
        "#bar plot between occupation vs percentage using normalised value of total counts\n",
        "df_user['occupation'].value_counts(normalize=True).mul(100).plot(kind='bar')\n",
        "# give the lables for x and y axis\n",
        "plt.xlabel(\"occupation\")\n",
        "plt.ylabel(\"Percent\")\n",
        "#inference from the below graph is mejority of the movie watchers are students"
      ],
      "execution_count": null,
      "outputs": [
        {
          "output_type": "execute_result",
          "data": {
            "text/plain": [
              "Text(0, 0.5, 'Percent')"
            ]
          },
          "metadata": {
            "tags": []
          },
          "execution_count": 30
        },
        {
          "output_type": "display_data",
          "data": {
            "image/png": "[encoded data removed]",
            "text/plain": [
              "<Figure size 432x288 with 1 Axes>"
            ]
          },
          "metadata": {
            "tags": [],
            "needs_background": "light"
          }
        }
      ]
    },
    {
      "cell_type": "markdown",
      "metadata": {
        "id": "UUY8b24dGpDf",
        "colab_type": "text"
      },
      "source": [
        "### 8. Visualize how popularity of genres has changed over the years - 10 marks\n",
        "\n",
        "Note that you need to use the **percent of number of releases in a year** as a parameter of popularity of a genre\n",
        "\n",
        "Hint 1: You need to reach to a data frame where the release year is the index and the genre is the column names (one cell shows the number of release in a year in one genre) or vice versa. (Drop unnecessary column if there are any)\n",
        "\n",
        "Hint 2: Find the total number of movies release in a year(use `sum(axis=1)` store that value in a new column as 'total'). Now divide the value of each genre in that year by total to get percentage number of release in a particular year.\n",
        "`(df.div(df['total'], axis= 0) * 100)`\n",
        "\n",
        "Once that is achieved, you can either use univariate plots or can use the heatmap to visualise all the changes over the years \n",
        "in one go. \n",
        "\n",
        "Hint 3: Use groupby on the relevant column and use sum() on the same to find out the number of releases in a year/genre.  "
      ]
    },
    {
      "cell_type": "code",
      "metadata": {
        "id": "A5wptfKWGpDp",
        "colab_type": "code",
        "colab": {
          "base_uri": "https://localhost:8080/",
          "height": 568
        },
        "outputId": "4116b626-0835-4210-f5af-bc79db6aa871"
      },
      "source": [
        "# Data is merged with item based on movie id\n",
        "df_Data_itemq8 = pd.merge(df_Data,df_item,how='inner',on='movie id')\n",
        "#the above resultant dataframe is merged with user dataframe using user id\n",
        "df_Data_item_userq8 = pd.merge(df_Data_itemq8,df_user,how='inner',on='user id')\n",
        "#df_Data_item_user_year_genre = df_Data_item_userq8.drop(df_Data_item_userq8.columns.difference(['unknown',\t'Action',\t'Adventure',\t'Animation',\t'Childrens',\t'Comedy',\t'Crime',\t'Documentary','Drama',\t'Fantasy',\t'Film-Noir',\t'Horror',\t'Musical',\t'Mystery',\t'Romance',\t'Sci-Fi',\t'Thriller',\t'War',\t'Western','year']), 1, inplace=True)\n",
        "plt.figure(figsize=(20,10))\n",
        "df_Data_item_user_year_genre = df_Data_item_userq8.loc[:, df_Data_item_userq8.columns.intersection(['unknown',\t'Action',\t'Adventure',\t'Animation',\t'Childrens',\t'Comedy',\t'Crime',\t'Documentary','Drama',\t'Fantasy',\t'Film-Noir',\t'Horror',\t'Musical',\t'Mystery',\t'Romance',\t'Sci-Fi',\t'Thriller',\t'War',\t'Western','year'])]\n",
        "#df_Data_item_user_year_genre_grouped = df_Data_item_user_year_genre.groupby(['year'],as_index=False)\n",
        "#df_Data_item_user_year_genre_grouped\n",
        "df_final = df_Data_item_user_year_genre.groupby('year')['unknown',\t'Action',\t'Adventure',\t'Animation',\t'Childrens',\t'Comedy',\t'Crime',\t'Documentary','Drama',\t'Fantasy',\t'Film-Noir',\t'Horror',\t'Musical',\t'Mystery',\t'Romance',\t'Sci-Fi',\t'Thriller',\t'War',\t'Western'].agg('sum')\n",
        "sns.lineplot(data=df_final, dashes=False)"
      ],
      "execution_count": null,
      "outputs": [
        {
          "output_type": "stream",
          "text": [
            "/usr/local/lib/python3.6/dist-packages/ipykernel_launcher.py:8: FutureWarning: Indexing with multiple keys (implicitly converted to a tuple of keys) will be deprecated, use a list instead.\n",
            "  \n"
          ],
          "name": "stderr"
        },
        {
          "output_type": "execute_result",
          "data": {
            "text/plain": [
              "<matplotlib.axes._subplots.AxesSubplot at 0x7fc604a07978>"
            ]
          },
          "metadata": {
            "tags": []
          },
          "execution_count": 64
        },
        {
          "output_type": "display_data",
          "data": {
            "image/png": "[encoded data removed]",
            "text/plain": [
              "<Figure size 1440x720 with 1 Axes>"
            ]
          },
          "metadata": {
            "tags": [],
            "needs_background": "light"
          }
        }
      ]
    },
    {
      "cell_type": "markdown",
      "metadata": {
        "id": "_kC-9YsdGpDp",
        "colab_type": "text"
      },
      "source": [
        "### 9. Find the top 25 movies according to average ratings such that each movie has number of ratings more than 100 - 10 marks\n",
        "\n",
        "Hints : \n",
        "\n",
        "1. Find the count of ratings and average ratings for every movie.\n",
        "2. Slice the movies which have ratings more than 100.\n",
        "3. Sort values according to average rating such that movie which highest rating is on top.\n",
        "4. Select top 25 movies.\n",
        "5. You will have to use the .merge() function to get the movie titles.\n",
        "\n",
        "Note: This question will need you to research about groupby and apply your findings. You can find more on groupby on https://realpython.com/pandas-groupby/."
      ]
    },
    {
      "cell_type": "code",
      "metadata": {
        "id": "ebM3rZQkGpDp",
        "colab_type": "code",
        "colab": {
          "base_uri": "https://localhost:8080/",
          "height": 886
        },
        "outputId": "201c7af3-0581-4eb1-8313-d2a78648e30a"
      },
      "source": [
        "df_Data_item = pd.merge(df_Data,df_item,how='inner',on='movie id')\n",
        "df_Data_item_user = pd.merge(df_Data_item,df_user,how='inner',on='user id')\n",
        "\n",
        "\n",
        "#graph = sns.barplot(x=top_movies.nlargest(25).index,y=top_movies.nlargest(25).values)\n",
        "#graph.set_xticklabels(graph.get_xticklabels(),rotation = 90)\n",
        "#getting top rated movies grouped by movie titles and compute its average rating \n",
        "top_movies = df_Data_item_user.groupby('movie title').agg({'rating':[np.size,np.mean]})\n",
        "#sorted the movie titles in descending order\n",
        "top_movies=top_movies.sort_values([('rating','size')],ascending=False)\n",
        "#select the top 100 movies based on ratings and size\n",
        "top_movies_100rating = top_movies.nlargest(100,[('rating','size')])\n",
        "#select the top 25 movies which are highly rated\n",
        "top_movies_100rating_25highest = top_movies_100rating.nlargest(25,[('rating','mean')])\n",
        "top_movies_100rating_25highest"
      ],
      "execution_count": 7,
      "outputs": [
        {
          "output_type": "execute_result",
          "data": {
            "text/html": [
              "<div>\n",
              "<style scoped>\n",
              "    .dataframe tbody tr th:only-of-type {\n",
              "        vertical-align: middle;\n",
              "    }\n",
              "\n",
              "    .dataframe tbody tr th {\n",
              "        vertical-align: top;\n",
              "    }\n",
              "\n",
              "    .dataframe thead tr th {\n",
              "        text-align: left;\n",
              "    }\n",
              "\n",
              "    .dataframe thead tr:last-of-type th {\n",
              "        text-align: right;\n",
              "    }\n",
              "</style>\n",
              "<table border=\"1\" class=\"dataframe\">\n",
              "  <thead>\n",
              "    <tr>\n",
              "      <th></th>\n",
              "      <th colspan=\"2\" halign=\"left\">rating</th>\n",
              "    </tr>\n",
              "    <tr>\n",
              "      <th></th>\n",
              "      <th>size</th>\n",
              "      <th>mean</th>\n",
              "    </tr>\n",
              "    <tr>\n",
              "      <th>movie title</th>\n",
              "      <th></th>\n",
              "      <th></th>\n",
              "    </tr>\n",
              "  </thead>\n",
              "  <tbody>\n",
              "    <tr>\n",
              "      <th>Schindler's List</th>\n",
              "      <td>298</td>\n",
              "      <td>4.466443</td>\n",
              "    </tr>\n",
              "    <tr>\n",
              "      <th>Casablanca</th>\n",
              "      <td>243</td>\n",
              "      <td>4.456790</td>\n",
              "    </tr>\n",
              "    <tr>\n",
              "      <th>Shawshank Redemption, The</th>\n",
              "      <td>283</td>\n",
              "      <td>4.445230</td>\n",
              "    </tr>\n",
              "    <tr>\n",
              "      <th>Usual Suspects, The</th>\n",
              "      <td>267</td>\n",
              "      <td>4.385768</td>\n",
              "    </tr>\n",
              "    <tr>\n",
              "      <th>Star Wars</th>\n",
              "      <td>583</td>\n",
              "      <td>4.358491</td>\n",
              "    </tr>\n",
              "    <tr>\n",
              "      <th>One Flew Over the Cuckoo's Nest</th>\n",
              "      <td>264</td>\n",
              "      <td>4.291667</td>\n",
              "    </tr>\n",
              "    <tr>\n",
              "      <th>Silence of the Lambs, The</th>\n",
              "      <td>390</td>\n",
              "      <td>4.289744</td>\n",
              "    </tr>\n",
              "    <tr>\n",
              "      <th>Godfather, The</th>\n",
              "      <td>413</td>\n",
              "      <td>4.283293</td>\n",
              "    </tr>\n",
              "    <tr>\n",
              "      <th>Raiders of the Lost Ark</th>\n",
              "      <td>420</td>\n",
              "      <td>4.252381</td>\n",
              "    </tr>\n",
              "    <tr>\n",
              "      <th>Titanic</th>\n",
              "      <td>350</td>\n",
              "      <td>4.245714</td>\n",
              "    </tr>\n",
              "    <tr>\n",
              "      <th>Empire Strikes Back, The</th>\n",
              "      <td>367</td>\n",
              "      <td>4.204360</td>\n",
              "    </tr>\n",
              "    <tr>\n",
              "      <th>Princess Bride, The</th>\n",
              "      <td>324</td>\n",
              "      <td>4.172840</td>\n",
              "    </tr>\n",
              "    <tr>\n",
              "      <th>Amadeus</th>\n",
              "      <td>276</td>\n",
              "      <td>4.163043</td>\n",
              "    </tr>\n",
              "    <tr>\n",
              "      <th>L.A. Confidential</th>\n",
              "      <td>297</td>\n",
              "      <td>4.161616</td>\n",
              "    </tr>\n",
              "    <tr>\n",
              "      <th>Fargo</th>\n",
              "      <td>508</td>\n",
              "      <td>4.155512</td>\n",
              "    </tr>\n",
              "    <tr>\n",
              "      <th>Braveheart</th>\n",
              "      <td>297</td>\n",
              "      <td>4.151515</td>\n",
              "    </tr>\n",
              "    <tr>\n",
              "      <th>Blade Runner</th>\n",
              "      <td>275</td>\n",
              "      <td>4.138182</td>\n",
              "    </tr>\n",
              "    <tr>\n",
              "      <th>It's a Wonderful Life</th>\n",
              "      <td>231</td>\n",
              "      <td>4.121212</td>\n",
              "    </tr>\n",
              "    <tr>\n",
              "      <th>Graduate, The</th>\n",
              "      <td>239</td>\n",
              "      <td>4.104603</td>\n",
              "    </tr>\n",
              "    <tr>\n",
              "      <th>Psycho</th>\n",
              "      <td>239</td>\n",
              "      <td>4.100418</td>\n",
              "    </tr>\n",
              "    <tr>\n",
              "      <th>Wizard of Oz, The</th>\n",
              "      <td>246</td>\n",
              "      <td>4.077236</td>\n",
              "    </tr>\n",
              "    <tr>\n",
              "      <th>Monty Python and the Holy Grail</th>\n",
              "      <td>316</td>\n",
              "      <td>4.066456</td>\n",
              "    </tr>\n",
              "    <tr>\n",
              "      <th>Pulp Fiction</th>\n",
              "      <td>394</td>\n",
              "      <td>4.060914</td>\n",
              "    </tr>\n",
              "    <tr>\n",
              "      <th>Sting, The</th>\n",
              "      <td>241</td>\n",
              "      <td>4.058091</td>\n",
              "    </tr>\n",
              "    <tr>\n",
              "      <th>Apocalypse Now</th>\n",
              "      <td>221</td>\n",
              "      <td>4.045249</td>\n",
              "    </tr>\n",
              "  </tbody>\n",
              "</table>\n",
              "</div>"
            ],
            "text/plain": [
              "                                 rating          \n",
              "                                   size      mean\n",
              "movie title                                      \n",
              "Schindler's List                    298  4.466443\n",
              "Casablanca                          243  4.456790\n",
              "Shawshank Redemption, The           283  4.445230\n",
              "Usual Suspects, The                 267  4.385768\n",
              "Star Wars                           583  4.358491\n",
              "One Flew Over the Cuckoo's Nest     264  4.291667\n",
              "Silence of the Lambs, The           390  4.289744\n",
              "Godfather, The                      413  4.283293\n",
              "Raiders of the Lost Ark             420  4.252381\n",
              "Titanic                             350  4.245714\n",
              "Empire Strikes Back, The            367  4.204360\n",
              "Princess Bride, The                 324  4.172840\n",
              "Amadeus                             276  4.163043\n",
              "L.A. Confidential                   297  4.161616\n",
              "Fargo                               508  4.155512\n",
              "Braveheart                          297  4.151515\n",
              "Blade Runner                        275  4.138182\n",
              "It's a Wonderful Life               231  4.121212\n",
              "Graduate, The                       239  4.104603\n",
              "Psycho                              239  4.100418\n",
              "Wizard of Oz, The                   246  4.077236\n",
              "Monty Python and the Holy Grail     316  4.066456\n",
              "Pulp Fiction                        394  4.060914\n",
              "Sting, The                          241  4.058091\n",
              "Apocalypse Now                      221  4.045249"
            ]
          },
          "metadata": {
            "tags": []
          },
          "execution_count": 7
        }
      ]
    },
    {
      "cell_type": "markdown",
      "metadata": {
        "id": "TTf5lPw4GpDz",
        "colab_type": "text"
      },
      "source": [
        "### 10. See gender distribution across different genres check for the validity of the below statements - 10 marks\n",
        "\n",
        "* Men watch more drama than women\n",
        "* Women watch more Sci-Fi than men\n",
        "* Men watch more Romance than women\n",
        "\n",
        "**compare the percentages**"
      ]
    },
    {
      "cell_type": "markdown",
      "metadata": {
        "id": "vtcBhnAaGpDz",
        "colab_type": "text"
      },
      "source": [
        "1. Merge all the datasets\n",
        "\n",
        "2. There is no need to conduct statistical tests around this. Just **compare the percentages** and comment on the validity of the above statements.\n",
        "\n",
        "3. you might want ot use the .sum(), .div() function here.\n",
        "\n",
        "4. Use number of ratings to validate the numbers. For example, if out of 4000 ratings received by women, 3000 are for drama, we will assume that 75% of the women watch drama."
      ]
    },
    {
      "cell_type": "code",
      "metadata": {
        "id": "aSQMVtP8SzzM",
        "colab_type": "code",
        "colab": {
          "base_uri": "https://localhost:8080/",
          "height": 349
        },
        "outputId": "03ac164f-5747-4876-d52f-c5ea29b3d104"
      },
      "source": [
        "# getting the total number of people watched only drama genre\n",
        "only_Drama_MenvWomen = df_Data_item_user.loc[df_Data_item_user['Drama'] == 1]\n",
        "# get the percentage of people one who watches drama based on the gender\n",
        "print(only_Drama_MenvWomen['gender'].value_counts(normalize=True)*100)\n",
        "print(\"Since the percentage of Male is greater than Female in this case. We can say that Men Watch more Drama Movies than Women.\")\n",
        "# distribution of the counts using countplot based on the gender\n",
        "sns.countplot(only_Drama_MenvWomen['gender']);\n"
      ],
      "execution_count": 16,
      "outputs": [
        {
          "output_type": "stream",
          "text": [
            "M    72.40757\n",
            "F    27.59243\n",
            "Name: gender, dtype: float64\n",
            "Since the percentage of Male is greater than Female in this case. We can say that Men Watch more Drama Movies than Women.\n"
          ],
          "name": "stdout"
        },
        {
          "output_type": "display_data",
          "data": {
            "image/png": "[encoded data removed]",
            "text/plain": [
              "<Figure size 432x288 with 1 Axes>"
            ]
          },
          "metadata": {
            "tags": [],
            "needs_background": "light"
          }
        }
      ]
    },
    {
      "cell_type": "code",
      "metadata": {
        "id": "MxrN00vkS7Nn",
        "colab_type": "code",
        "colab": {
          "base_uri": "https://localhost:8080/",
          "height": 347
        },
        "outputId": "5e234d07-a7af-45a5-a5e3-7b10c71d1333"
      },
      "source": [
        "# getting the total number of people watched only SciFi genre\n",
        "only_SciFi_MenvWomen = df_Data_item_user.loc[df_Data_item_user['Sci-Fi'] == 1]\n",
        "# get the percentage of people one who watches SciFi  based on the gender\n",
        "print(only_SciFi_MenvWomen['gender'].value_counts(normalize=True)*100)\n",
        "print(\"Since the percentage of Male is greater than Female in this case. We can say that Men Watch more Sci-Fi Movies than Women.\")\n",
        "# distribution of the counts using countplot based on the gender\n",
        "sns.countplot(only_SciFi_MenvWomen['gender']);"
      ],
      "execution_count": 17,
      "outputs": [
        {
          "output_type": "stream",
          "text": [
            "M    79.347997\n",
            "F    20.652003\n",
            "Name: gender, dtype: float64\n",
            "Since the percentage of Male is greater than Female in this case. We can say that Men Watch more Sci-Fi Movies than Women.\n"
          ],
          "name": "stdout"
        },
        {
          "output_type": "display_data",
          "data": {
            "image/png": "[encoded data removed]",
            "text/plain": [
              "<Figure size 432x288 with 1 Axes>"
            ]
          },
          "metadata": {
            "tags": [],
            "needs_background": "light"
          }
        }
      ]
    },
    {
      "cell_type": "code",
      "metadata": {
        "id": "o1Ab5ofAGpDz",
        "colab_type": "code",
        "colab": {
          "base_uri": "https://localhost:8080/",
          "height": 367
        },
        "outputId": "b7c85b7b-809c-4384-9f34-48e370a935ab"
      },
      "source": [
        "# getting the total number of people watched only Romance genre\n",
        "only_Romance_MenvWomen = df_Data_item_user.loc[df_Data_item_user['Romance'] == 1]\n",
        "# get the percentage of people one who watches romance based on the gender\n",
        "print(only_Romance_MenvWomen['gender'].value_counts(normalize=True)*100)\n",
        "print(\"Since the percentage of Male is greater than Female in this case. We can say that Men Watch more Romance Movies than Women.\")\n",
        "sns.countplot(only_Romance_MenvWomen['gender']);"
      ],
      "execution_count": 18,
      "outputs": [
        {
          "output_type": "stream",
          "text": [
            "M    69.898772\n",
            "F    30.101228\n",
            "Name: gender, dtype: float64\n",
            "Since the percentage of Male is greater than Female in this case. We can say that Men Watch more Romance Movies than Women.\n"
          ],
          "name": "stdout"
        },
        {
          "output_type": "display_data",
          "data": {
            "image/png": "[encoded data removed]",
            "text/plain": [
              "<Figure size 432x288 with 1 Axes>"
            ]
          },
          "metadata": {
            "tags": [],
            "needs_background": "light"
          }
        }
      ]
    }
  ]
}